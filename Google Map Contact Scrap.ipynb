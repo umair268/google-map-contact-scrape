{
 "cells": [
  {
   "cell_type": "markdown",
   "metadata": {},
   "source": [
    "# Google Map Data Scrapping"
   ]
  },
  {
   "cell_type": "code",
   "execution_count": 1,
   "metadata": {},
   "outputs": [
    {
     "name": "stdout",
     "output_type": "stream",
     "text": [
      "Requirement already satisfied: selenium in c:\\users\\hp\\anaconda3\\lib\\site-packages (3.141.0)\n",
      "Requirement already satisfied: urllib3 in c:\\users\\hp\\anaconda3\\lib\\site-packages (from selenium) (1.24.2)\n"
     ]
    }
   ],
   "source": [
    "! pip install selenium"
   ]
  },
  {
   "cell_type": "markdown",
   "metadata": {},
   "source": [
    "## Import Modules"
   ]
  },
  {
   "cell_type": "code",
   "execution_count": 2,
   "metadata": {},
   "outputs": [],
   "source": [
    "from selenium import webdriver\n",
    "import time\n",
    "import bs4\n",
    "import pandas as pd"
   ]
  },
  {
   "cell_type": "markdown",
   "metadata": {},
   "source": [
    "## Enter Link of Page from you want to Scrape Content"
   ]
  },
  {
   "cell_type": "markdown",
   "metadata": {},
   "source": [
    "like this link https://www.google.com/maps/place/ALNOOR+HOTEL+ALMAROOF+KAKA+DA+HOTEL/data=!4m5!3m4!1s0x391edb43792208d7:0xedb402456a9e1031!8m2!3d32.3311821!4d74.3474567?authuser=0&hl=en&rclk=1"
   ]
  },
  {
   "cell_type": "code",
   "execution_count": 3,
   "metadata": {},
   "outputs": [
    {
     "name": "stdout",
     "output_type": "stream",
     "text": [
      "Enter Page Link :https://www.google.com/maps/place/ALNOOR+HOTEL+ALMAROOF+KAKA+DA+HOTEL/data=!4m5!3m4!1s0x391edb43792208d7:0xedb402456a9e1031!8m2!3d32.3311821!4d74.3474567?authuser=0&hl=en&rclk=1\n"
     ]
    }
   ],
   "source": [
    "link=input('Enter Page Link :')"
   ]
  },
  {
   "cell_type": "markdown",
   "metadata": {},
   "source": [
    "## Get Page Source"
   ]
  },
  {
   "cell_type": "code",
   "execution_count": 4,
   "metadata": {},
   "outputs": [
    {
     "name": "stderr",
     "output_type": "stream",
     "text": [
      "C:\\Users\\HP\\Anaconda3\\lib\\site-packages\\ipykernel_launcher.py:4: DeprecationWarning: use options instead of chrome_options\n",
      "  after removing the cwd from sys.path.\n"
     ]
    }
   ],
   "source": [
    "options = webdriver.ChromeOptions()\n",
    "options.add_argument('--headless')\n",
    "\n",
    "driver = webdriver.Chrome(\"./chromedriver\", chrome_options=options)\n",
    "\n",
    "driver.get(link)\n"
   ]
  },
  {
   "cell_type": "markdown",
   "metadata": {},
   "source": [
    "## Extract Information"
   ]
  },
  {
   "cell_type": "code",
   "execution_count": 5,
   "metadata": {},
   "outputs": [
    {
     "name": "stdout",
     "output_type": "stream",
     "text": [
      "['0307 3536372']\n",
      "ALNOOR HOTEL ALMAROOF KAKA DA HOTEL\n",
      "0307 3536372\n",
      "Bangla Chowk wazirabad Road،, Daska, Sialkot, Punjab 51010\n"
     ]
    }
   ],
   "source": [
    "phone_number = []\n",
    "all_content = driver.find_elements_by_class_name(\"ugiz4pqJLAG__text\")\n",
    "name_res=driver.find_element_by_xpath('/html/body/jsl/div[3]/div[9]/div[8]/div/div[1]/div/div/div[2]/div[1]/div[1]/div[1]/h1/span[1]')\n",
    "phone_res=driver.find_element_by_xpath('//*[@id=\"pane\"]/div/div[1]/div/div/div[10]/div[4]/button/div[1]/div[2]/div[1]')\n",
    "address_res=driver.find_element_by_xpath('//*[@id=\"pane\"]/div/div[1]/div/div/div[10]/div[1]/button/div[1]/div[2]/div[1]')\n",
    "\n",
    "for i in all_content:\n",
    "    s = i.text\n",
    "    if (s[:3] == \"+92\" or s[:2] == \"03\" or s[0]==\"+\"):\n",
    "        phone_number.append(s)\n",
    "\n",
    "\n",
    "print(phone_number)\n",
    "print(name_res.text)\n",
    "print(phone_res.text)\n",
    "print(address_res.text)\n"
   ]
  },
  {
   "cell_type": "markdown",
   "metadata": {},
   "source": [
    "## Store Information in csv file"
   ]
  },
  {
   "cell_type": "code",
   "execution_count": 6,
   "metadata": {},
   "outputs": [],
   "source": [
    "dic1={'Name':[name_res.text],'Phone Number':[phone_res.text],'Address':[address_res.text]}\n",
    "df=pd.DataFrame(dic1)\n",
    "df.to_csv('mapdata.csv')"
   ]
  }
 ],
 "metadata": {
  "kernelspec": {
   "display_name": "Python 3",
   "language": "python",
   "name": "python3"
  },
  "language_info": {
   "codemirror_mode": {
    "name": "ipython",
    "version": 3
   },
   "file_extension": ".py",
   "mimetype": "text/x-python",
   "name": "python",
   "nbconvert_exporter": "python",
   "pygments_lexer": "ipython3",
   "version": "3.7.4"
  }
 },
 "nbformat": 4,
 "nbformat_minor": 2
}
